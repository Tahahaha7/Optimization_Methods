{
 "cells": [
  {
   "cell_type": "markdown",
   "metadata": {},
   "source": [
    "# LMIs and Semidefinite Programming\n",
    "\n",
    "A semidefinite program (SDP) is an optimization problem with linear objective and LMI and linear equality constraints:  \n",
    "\n",
    "$$\\text{Minimize }\\ c^Tx$$\n",
    "$$\\text{subject to }\\ F_0+x_1F_1+\\cdot\\cdot\\cdot+x_nF_n\\ge0$$\n",
    "$$Ax=b$$"
   ]
  },
  {
   "cell_type": "code",
   "execution_count": 22,
   "metadata": {},
   "outputs": [],
   "source": [
    "import numpy as np\n",
    "import cvxpy as cp\n",
    "import cvxopt as co"
   ]
  },
  {
   "cell_type": "markdown",
   "metadata": {},
   "source": [
    "**Problem:** A university has decided to construct a grassy (elliptical) oval in an area bounded by existing buildings. Unfortunately, the area is not itself elliptical. The available land area is bounded by a quadrilateral with vertices (0,0), (0,100), (150,150) and (300,0), where all distances are in metres. Determine the dimensions of the largest elliptical garden that will fit in the space bounded by these vertices, in terms of its center and its semi-major and semi-minor axes."
   ]
  },
  {
   "cell_type": "code",
   "execution_count": 1,
   "metadata": {},
   "outputs": [],
   "source": [
    "from cvxopt import matrix, solvers\n",
    "\n",
    "\n",
    "# Objective function: c.T * x\n",
    "# Subject to: F0 + x1.F1 + .. + xn.Fn\n",
    "# Equality constraint: Ax + b\n",
    "\n",
    "# The arrays that limit the elliptical shape after normalizing by 100\n",
    "edges = np.array([[-1/3, 1], [1,1], [0,1], [1,0]])\n",
    "points = np.array([[1], [0], [0], [3]])\n",
    "\n",
    "# Variable((n, n), PSD=True) instead of Semidef(n)\n",
    "Q = cp.Variable((n,n), PSD=True)\n",
    "\n",
    "constraints += [Q * edges[i] - points[i] >= 0 for i in range(4)]\n",
    "\n",
    "obj = cvx.Maximize(cvx.log_det(Q))\n",
    "\n",
    "cvx.Problem(obj, constraints)"
   ]
  }
 ],
 "metadata": {
  "kernelspec": {
   "display_name": "Python 3",
   "language": "python",
   "name": "python3"
  },
  "language_info": {
   "codemirror_mode": {
    "name": "ipython",
    "version": 3
   },
   "file_extension": ".py",
   "mimetype": "text/x-python",
   "name": "python",
   "nbconvert_exporter": "python",
   "pygments_lexer": "ipython3",
   "version": "3.7.1"
  }
 },
 "nbformat": 4,
 "nbformat_minor": 2
}
