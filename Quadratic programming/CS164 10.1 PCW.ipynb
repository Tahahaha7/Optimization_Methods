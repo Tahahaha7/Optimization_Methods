{
  "nbformat": 4,
  "nbformat_minor": 0,
  "metadata": {
    "colab": {
      "name": "CS164 10.1 PCW.ipynb",
      "provenance": []
    },
    "kernelspec": {
      "name": "python3",
      "display_name": "Python 3"
    }
  },
  "cells": [
    {
      "cell_type": "markdown",
      "metadata": {
        "id": "TV0rj3z8MupX",
        "colab_type": "text"
      },
      "source": [
        "# Quadratic Programming"
      ]
    },
    {
      "cell_type": "code",
      "metadata": {
        "id": "18Hv-twJMjIw",
        "colab_type": "code",
        "colab": {}
      },
      "source": [
        "import numpy as np\n",
        "import pandas as pd\n",
        "import cvxpy as cp\n",
        "from cvxopt import matrix\n",
        "from cvxopt import solvers"
      ],
      "execution_count": 0,
      "outputs": []
    },
    {
      "cell_type": "markdown",
      "metadata": {
        "id": "jeOfqaCdM2md",
        "colab_type": "text"
      },
      "source": [
        "## Example from the readings\n",
        "Minimize the following formula:\n",
        "$$\\min\\left[\\frac{1}{2}\\left(x_1^2-x_1x_2+2x_2^2\\right)-3x_1-\\frac{3}{2}x_2\\right]$$\n",
        "\n",
        "Such that:$\\ \\ \\ -1\\le x_1\\le2\\ \\ \\ \\ \\ \\ \\text{and}\\ \\ \\ \\ \\ \\ 0\\le x_2\\le3$\n",
        "\n",
        "This is a QP that can be cast in standard form with:\n",
        "\n",
        "$$H=\\left(\\begin{matrix}1&-\\frac{1}{2}\\\\-\\frac{1}{2}&2\\end{matrix}\\right)\\ \\ \\ \\ \\ c^T=\\left(\\begin{matrix}-3&-\\frac{3}{2}\\end{matrix}\\right)\\ \\ \\ \\ \\ A=\\left(\\begin{matrix}1&0\\\\-1&0\\\\0&1\\\\0&-1\\end{matrix}\\right)\\ \\ \\ \\ \\ b=\\left(\\begin{matrix}2\\\\1\\\\3\\\\0\\end{matrix}\\right)$$\n",
        "\n",
        "The quadratic programming would be of the form:\n",
        "$$\\min\\left[\\frac{1}{2}x^THx+c^Tx\\right]$$"
      ]
    },
    {
      "cell_type": "code",
      "metadata": {
        "id": "vONUufxCM7ZC",
        "colab_type": "code",
        "colab": {
          "base_uri": "https://localhost:8080/",
          "height": 155
        },
        "outputId": "54c5fafb-5a35-466e-ad61-8206ffce1662"
      },
      "source": [
        "# Define QP parameters (directly by columns)\n",
        "H = matrix([[1, -.5], [-.5, 2]], tc='d')\n",
        "c = matrix([-3, -1.5], tc='d')\n",
        "A = matrix([[1,-1,0,0],[0,0,1,-1]], tc='d')\n",
        "b = matrix([2,1,3,0], tc='d')\n",
        "\n",
        "# Construct the QP, invoke solver\n",
        "sol = solvers.qp(H, c, A, b)\n",
        "\n",
        "# Extract optimal value and solution\n",
        "sol['x']\n",
        "sol['primal objective']"
      ],
      "execution_count": 64,
      "outputs": [
        {
          "output_type": "stream",
          "text": [
            "     pcost       dcost       gap    pres   dres\n",
            " 0: -4.7164e+00 -1.4752e+01  1e+01  6e-17  1e-16\n",
            " 1: -5.3811e+00 -5.8477e+00  5e-01  2e-16  1e-16\n",
            " 2: -5.5593e+00 -5.5655e+00  6e-03  4e-16  2e-16\n",
            " 3: -5.5625e+00 -5.5625e+00  6e-05  1e-16  9e-17\n",
            " 4: -5.5625e+00 -5.5625e+00  6e-07  8e-17  6e-18\n",
            "Optimal solution found.\n"
          ],
          "name": "stdout"
        },
        {
          "output_type": "execute_result",
          "data": {
            "text/plain": [
              "-5.562499682594628"
            ]
          },
          "metadata": {
            "tags": []
          },
          "execution_count": 64
        }
      ]
    },
    {
      "cell_type": "markdown",
      "metadata": {
        "id": "jeOpdNF0NBWa",
        "colab_type": "text"
      },
      "source": [
        "## Pre-Class Exercise\n",
        "In this exercise, we will look at the problem of portfolio optimization, which we briefly investigated in lesson 1.1. We will now use a more realistic model, where we consider risk levels and constraints on minimum rates of return. Suppose that we have a vector $x∈R^N$, where the ith component $x_{i}$ represents the fraction of our capital that we have invested in asset i. We treat the rate of return of each asset as a random variable, where the mean rate of return is represented by a vector $µ ∈ R^N$ , and the covariance matrix for the rates of return over all assets is denoted $C ∈ R^{N×N}$ . One way to allocate assets is to minimize risk, subject to our portfolio making some minimum rate or return.\n",
        "\n",
        "- Explain why the quadratic form $\\frac{1}{2}x^TCx$ provides a measure of overall portfolio risk. This is what we want to minimize.\n",
        "\n",
        "Diversifying the portfolio decreases the risk of loosing money if the assets are not correlated. In other words, we want to minimize the correlation between assets so that the risk embeded in one assest is not going to propagate through the whole portfolio.\n",
        "\n",
        "- Let r denote the minimum rate of return for the portfolio. Explain why this translates into a constraint $\\mu^Tx\\ge r$\n",
        "\n",
        "The vector $\\mu$ represents the rate of return for all assets. The dot product of the vector with a given asset $x$ yeilds the expected return on that specific investment. Thus, r is the lower limit for the return for the portfolio.\n",
        "\n",
        "- Explain why we additionally need the (element-wise) constraint x ≥ 0 and the equality constraint $\\sum_i^{ }x_i=1$\n",
        "\n",
        "The investments are expressed as a percentage growth rather than absolute values. In other words, the sum of percentages of each asset adds up to 100% and the proportion of each asset cannot be less than 0."
      ]
    },
    {
      "cell_type": "markdown",
      "metadata": {
        "id": "hVakZukKNFZL",
        "colab_type": "text"
      },
      "source": [
        "- A dataset of 225 different assets can be found here. The first line of the file tells us the number of assets (225). The next 225 lines list the mean rate of return and standard deviation for each of the 225 assets. The final 113 × 225 lines tell us the correlation between the rates of return of the different assets: the first and second column are two assets i and j, and the third column is the correlation between asset i and asset j. Note that only the upper triangle of this matrix is specified, since correlations must be symmetric.\n",
        "- Load the data into Python (pre-processing if necessary) and create a vector µ for the mean rate of return, a vector σ for the standard deviations, and a matrix K for the correlations.\n",
        "- Compute the covariance matrix C by using the identity $C_{ij}=K_{ij}\\sigma_i\\sigma_j$\n",
        "- Using the cost and constraints described above, create and solve a quadratic program using CVXPY to find the optimal asset allocation, assuming a minimum return rate of 0.2%. Are there some assets in which we practically would not invest in this case?"
      ]
    },
    {
      "cell_type": "code",
      "metadata": {
        "id": "0RKr9tzquOgB",
        "colab_type": "code",
        "colab": {}
      },
      "source": [
        "file = 'http://people.brunel.ac.uk/~mastjjb/jeb/orlib/files/port5.txt'\n",
        "\n",
        "data = np.loadtxt(file, skiprows=1, max_rows=225)\n",
        "data_cor = np.loadtxt(file, skiprows=226)\n",
        "\n",
        "mu = data[:,0]\n",
        "sigma = data[:,1]\n",
        "\n",
        "K, CC = np.zeros((225, 225)), np.zeros((225, 225))\n",
        "K[np.triu_indices(225, 0)] = data_cor[:,2]\n",
        "K[np.tril_indices(225, -1)] = K.T[np.tril_indices(225, -1)]\n",
        "C = sigma * (sigma * K).T\n",
        "r = 0.002"
      ],
      "execution_count": 0,
      "outputs": []
    },
    {
      "cell_type": "code",
      "metadata": {
        "id": "XSyOg_i7uRry",
        "colab_type": "code",
        "colab": {
          "base_uri": "https://localhost:8080/",
          "height": 34
        },
        "outputId": "350f8b28-8c95-4421-f42f-5bee5f070ad7"
      },
      "source": [
        "# Optimization\n",
        "x = cp.Variable(225)\n",
        "objective = cp.Minimize((1/2)*cp.quad_form(x, C))\n",
        "constant = [mu.T @ x >= r, cp.sum(x) == 1, x >= 0]\n",
        "problem = cp.Problem(objective, constant)\n",
        "print('Minimum risk: ', problem.solve())"
      ],
      "execution_count": 61,
      "outputs": [
        {
          "output_type": "stream",
          "text": [
            "Minimum risk:  0.00019491212566550894\n"
          ],
          "name": "stdout"
        }
      ]
    },
    {
      "cell_type": "code",
      "metadata": {
        "id": "DjC77GGlubKS",
        "colab_type": "code",
        "colab": {
          "base_uri": "https://localhost:8080/",
          "height": 349
        },
        "outputId": "7956cd38-0bb3-4369-8a57-f3cb46fd60bb"
      },
      "source": [
        "X = pd.DataFrame(x.value, columns=['Risk'])\n",
        "X.sort_values(by='Risk', ascending=False)[:10]"
      ],
      "execution_count": 60,
      "outputs": [
        {
          "output_type": "execute_result",
          "data": {
            "text/html": [
              "<div>\n",
              "<style scoped>\n",
              "    .dataframe tbody tr th:only-of-type {\n",
              "        vertical-align: middle;\n",
              "    }\n",
              "\n",
              "    .dataframe tbody tr th {\n",
              "        vertical-align: top;\n",
              "    }\n",
              "\n",
              "    .dataframe thead th {\n",
              "        text-align: right;\n",
              "    }\n",
              "</style>\n",
              "<table border=\"1\" class=\"dataframe\">\n",
              "  <thead>\n",
              "    <tr style=\"text-align: right;\">\n",
              "      <th></th>\n",
              "      <th>Risk</th>\n",
              "    </tr>\n",
              "  </thead>\n",
              "  <tbody>\n",
              "    <tr>\n",
              "      <th>61</th>\n",
              "      <td>0.256742</td>\n",
              "    </tr>\n",
              "    <tr>\n",
              "      <th>59</th>\n",
              "      <td>0.120080</td>\n",
              "    </tr>\n",
              "    <tr>\n",
              "      <th>195</th>\n",
              "      <td>0.098023</td>\n",
              "    </tr>\n",
              "    <tr>\n",
              "      <th>39</th>\n",
              "      <td>0.086598</td>\n",
              "    </tr>\n",
              "    <tr>\n",
              "      <th>42</th>\n",
              "      <td>0.081199</td>\n",
              "    </tr>\n",
              "    <tr>\n",
              "      <th>8</th>\n",
              "      <td>0.079523</td>\n",
              "    </tr>\n",
              "    <tr>\n",
              "      <th>128</th>\n",
              "      <td>0.074114</td>\n",
              "    </tr>\n",
              "    <tr>\n",
              "      <th>214</th>\n",
              "      <td>0.068842</td>\n",
              "    </tr>\n",
              "    <tr>\n",
              "      <th>96</th>\n",
              "      <td>0.059268</td>\n",
              "    </tr>\n",
              "    <tr>\n",
              "      <th>170</th>\n",
              "      <td>0.057275</td>\n",
              "    </tr>\n",
              "  </tbody>\n",
              "</table>\n",
              "</div>"
            ],
            "text/plain": [
              "         Risk\n",
              "61   0.256742\n",
              "59   0.120080\n",
              "195  0.098023\n",
              "39   0.086598\n",
              "42   0.081199\n",
              "8    0.079523\n",
              "128  0.074114\n",
              "214  0.068842\n",
              "96   0.059268\n",
              "170  0.057275"
            ]
          },
          "metadata": {
            "tags": []
          },
          "execution_count": 60
        }
      ]
    }
  ]
}