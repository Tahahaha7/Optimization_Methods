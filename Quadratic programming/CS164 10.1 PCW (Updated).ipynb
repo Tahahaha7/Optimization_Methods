{
 "cells": [
  {
   "cell_type": "markdown",
   "metadata": {},
   "source": [
    "# Soft Constraints and Regularization\n",
    "\n",
    "We will now look at a few uses of slack variables in QPs.  We may sometimes not wish to enforce hard constraints on an optimization problem.  In these cases, we can soften a constraint by puttin a penalty on violating it, and adding this to the cost function.  For example, if our hard constraint is $x \\geq b$, we can soften this with a slack variable to have a constraint \n",
    "$$x \\geq b - s,$$ \n",
    "where we constrain $s \\geq 0$ and add a term $\\beta s^T s$ to the cost function.  Ideally, $s=0$ and the constraint is satisfied, but if it cannot be, the optimizer will try to make $s$ as small as possible.\n",
    "\n",
    "Another use of slack variables, as we saw last lesson, is to add a $l_p$-norm to the cost function.  This is called <i>regularization</i>.  When we have an existing quadratic cost function, adding a term of the form $\\gamma \\Vert x \\Vert_\\infty$, where $\\gamma$ is some small weight.\n",
    "\n",
    "1. Discuss where we may wish to use both soft constraints and regularization in the portfolio optimization problem.  Try to predict the\n",
    "\n",
    "2. Use the working implementation below to implement your soft constraints / regularization using CVXPY and evaluate the effect.  Produce plots of the portfolio allocation in each case to demonstrate what the extra terms in the cost function do.\n",
    "\n",
    "3. EXTENSION: We could have used a 1-norm instead for regularization, which is common to add sparsity to the solution.  However, in this case, this would have no effect on the solution.  Why?"
   ]
  },
  {
   "cell_type": "code",
   "execution_count": 1,
   "metadata": {},
   "outputs": [],
   "source": [
    "import urllib.request as url\n",
    "import numpy as np\n",
    "import cvxpy as cvx\n",
    "\n",
    "# Load portfolio data and extract matrices\n",
    "file_url = 'https://course-resources.minerva.kgi.edu/uploaded_files/mke/nv1GKr/port5.txt'\n",
    "\n",
    "with url.urlopen(file_url) as data_file:\n",
    "    lines = [l.decode().split() for l in data_file.readlines()]\n",
    "\n",
    "# Get the first line, which is the size of the portfolio:\n",
    "N = int(lines[0][0])\n",
    "\n",
    "# Get the next N lines, which give the means and standard deviations\n",
    "mean = np.array([[float(y[0]) for y in lines[1:N+1]]]).T\n",
    "stdev = np.array([[float(y[1]) for y in lines[1:N+1]]]).T\n",
    "\n",
    "# Now get the correlation matrix data\n",
    "rowind = np.array([int(y[0])-1 for y in lines[N+1:]])\n",
    "colind = np.array([int(y[1])-1 for y in lines[N+1:]])\n",
    "corr = np.array([float(y[2]) for y in lines[N+1:]])\n",
    "\n",
    "# Create the correlation matrix and then the covariance matrix\n",
    "C = np.zeros([N,N])\n",
    "C[rowind,colind]=corr\n",
    "C = C + np.triu(C,1).T #Add in the lower triangle not in the data file\n",
    "\n",
    "Cov = np.multiply(C,stdev * stdev.T)"
   ]
  },
  {
   "cell_type": "code",
   "execution_count": 5,
   "metadata": {},
   "outputs": [
    {
     "name": "stdout",
     "output_type": "stream",
     "text": [
      "Minimum Risk: 6.373419e-04\n"
     ]
    }
   ],
   "source": [
    "# Minimum rate of return\n",
    "r = 0.002\n",
    "\n",
    "# create column vector of asset allocations\n",
    "x = cvx.Variable(N)\n",
    "\n",
    "# Objective\n",
    "risk = 0.5*cvx.quad_form(x, Cov) + 0.01*cvx.norm(x, np.inf)\n",
    "obj = cvx.Minimize(risk)\n",
    "\n",
    "# Constraints\n",
    "con = [x >= 0, cvx.sum(x) == 1, mean.T*x >= r]\n",
    "\n",
    "# Solve the problem\n",
    "prob = cvx.Problem(obj, con)\n",
    "min_risk = prob.solve()\n",
    "print('Minimum Risk: %4e' % min_risk)"
   ]
  },
  {
   "cell_type": "code",
   "execution_count": 8,
   "metadata": {},
   "outputs": [
    {
     "data": {
      "image/png": "[encoded data removed]",
      "text/plain": [
       "<Figure size 1080x360 with 1 Axes>"
      ]
     },
     "metadata": {
      "needs_background": "light"
     },
     "output_type": "display_data"
    }
   ],
   "source": [
    "# Plot of asset allocation\n",
    "import matplotlib.pyplot as plt\n",
    "allocations = [k.value for k in x]\n",
    "\n",
    "plt.figure(figsize=(15, 5))\n",
    "plt.bar(range(1,N+1),allocations)\n",
    "plt.xlabel('Asset')\n",
    "plt.ylabel('Fraction invested')\n",
    "plt.show()"
   ]
  }
 ],
 "metadata": {
  "kernelspec": {
   "display_name": "Python 3",
   "language": "python",
   "name": "python3"
  },
  "language_info": {
   "codemirror_mode": {
    "name": "ipython",
    "version": 3
   },
   "file_extension": ".py",
   "mimetype": "text/x-python",
   "name": "python",
   "nbconvert_exporter": "python",
   "pygments_lexer": "ipython3",
   "version": "3.7.1"
  }
 },
 "nbformat": 4,
 "nbformat_minor": 2
}
