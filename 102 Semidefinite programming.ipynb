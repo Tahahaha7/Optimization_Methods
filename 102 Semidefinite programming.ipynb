{
  "nbformat": 4,
  "nbformat_minor": 0,
  "metadata": {
    "colab": {
      "name": "CS166 10.2 PCW.ipynb",
      "provenance": []
    },
    "kernelspec": {
      "name": "python3",
      "display_name": "Python 3"
    }
  },
  "cells": [
    {
      "cell_type": "markdown",
      "metadata": {
        "id": "8aOorIAiAi1k",
        "colab_type": "text"
      },
      "source": [
        "# LMIs and Semidefinite Programming\n",
        "\n",
        "A semidefinite program (SDP) is an optimization problem with linear objective and LMI and linear equality constraints:  \n",
        "\n",
        "$$\\text{Minimize }\\ c^Tx$$\n",
        "$$\\text{subject to }\\ F_0+x_1F_1+\\cdot\\cdot\\cdot+x_nF_n\\ge0$$\n",
        "$$Ax=b$$"
      ]
    },
    {
      "cell_type": "code",
      "metadata": {
        "id": "cf-ZLHPdAl3V",
        "colab_type": "code",
        "colab": {}
      },
      "source": [
        "import numpy as np\n",
        "import cvxpy as cvx\n",
        "import cvxopt as co\n",
        "import matplotlib.pyplot as plt"
      ],
      "execution_count": 0,
      "outputs": []
    },
    {
      "cell_type": "markdown",
      "metadata": {
        "id": "3udJtXr7AwRt",
        "colab_type": "text"
      },
      "source": [
        "## Maximum-Volume Ellipsoid Problem\n",
        "\n",
        "> A university has decided to construct a grassy (elliptical) oval in an area bounded by existing buildings.  Unfortunately, the area is bounded by existing construction, and is not itself elliptical  The available is bounded by a quadrilateral with vertices (0,0), (0,100), (150,150) and (300,0), where all distances are in metres.  Determine the area of the largest elliptical garden that will fit in the space bounded by these vertices, its center and the directions of its semi-major and semi-minor axes.\n",
        ">\n",
        "><b>HINTS:</b>\n",
        ">\n",
        "> * The <code>log_det</code> and <code>norm</code> functions in CVXPY will be helpful.  You can use the syntax X = <code>Variable((n,n) PSD = true)</code> to create semidefinite matrices.\n",
        "> * The CVXOPT SDP solver is not well equipped to handle a $\\log \\det$ objective with such large lengths as the constraints in this problem.  You may need to scale the lengths by 100, then scale them up after solving the problem."
      ]
    },
    {
      "cell_type": "code",
      "metadata": {
        "id": "3rDPI4zyAkj8",
        "colab_type": "code",
        "colab": {
          "base_uri": "https://localhost:8080/",
          "height": 54
        },
        "outputId": "89118951-096e-42cc-d086-f468ba2b02ce"
      },
      "source": [
        "## PRE-CLASS ATTEMPT\n",
        "\n",
        "# Objective function: c.T * x\n",
        "# Subject to: F0 + x1.F1 + .. + xn.Fn\n",
        "# Equality constraint: Ax + b\n",
        "\n",
        "# The arrays that limit the elliptical shape after normalizing by 100\n",
        "edges = np.array([[-1/3, 1], [1,1], [0,1], [1,0]])\n",
        "points = np.array([[1], [0], [0], [3]])\n",
        "\n",
        "# Variable((n, n), PSD=True) instead of Semidef(n)\n",
        "Q = cp.Variable((2, 2), PSD=True)\n",
        "constraints = [Q >> 0] \n",
        "constraints += [Q * edges[i] - points[i] >= 0 for i in range(4)]\n",
        "\n",
        "obj = cvx.Maximize(cvx.log_det(Q))\n",
        "\n",
        "cvx.Problem(obj, constraints)"
      ],
      "execution_count": 3,
      "outputs": [
        {
          "output_type": "execute_result",
          "data": {
            "text/plain": [
              "Problem(Maximize(Expression(CONCAVE, NONNEGATIVE, ())), [PSD(Expression(AFFINE, UNKNOWN, (2, 2))), Inequality(Constant(CONSTANT, ZERO, ())), Inequality(Constant(CONSTANT, ZERO, ())), Inequality(Constant(CONSTANT, ZERO, ())), Inequality(Constant(CONSTANT, ZERO, ()))])"
            ]
          },
          "metadata": {
            "tags": []
          },
          "execution_count": 3
        }
      ]
    },
    {
      "cell_type": "code",
      "metadata": {
        "id": "I9df-ZrRBBaH",
        "colab_type": "code",
        "colab": {
          "base_uri": "https://localhost:8080/",
          "height": 639
        },
        "outputId": "185f6da6-c351-4d99-d0a4-618beccb50f6"
      },
      "source": [
        "## SOLUTION FROM CLASS SESSION [Prof. Shekhar]\n",
        "\n",
        "# Define the vertices\n",
        "vert_x = 100 * np.array([0, 0, 1.5, 3, 0])\n",
        "vert_y = 100 * np.array([0, 1, 1.5, 0, 0])\n",
        "\n",
        "# Define the lines for the boundary of the oval\n",
        "A = np.array([[-1 , 0], [0 , -1], [-1/3 , 1], [1, 1]])\n",
        "b = 100 * np.array([[0, 0, 1, 3]]).T\n",
        "\n",
        "# Define the variables for the ellipse {c + Ex}\n",
        "c = cvx.Variable((2,1))\n",
        "E = cvx.Variable((2,2), PSD = True)\n",
        "\n",
        "# Define the objective function\n",
        "obj = cvx.Maximize(cvx.log_det(E))\n",
        "\n",
        "# Define the constraints\n",
        "con = [A[i] * c + cvx.norm(A[i] * E, 2) <= b[i] for i in range(0, len(b))]\n",
        "\n",
        "# Solve the optimization problem\n",
        "prob = cvx.Problem(obj, con)\n",
        "prob.solve(verbose=True)"
      ],
      "execution_count": 4,
      "outputs": [
        {
          "output_type": "stream",
          "text": [
            "----------------------------------------------------------------------------\n",
            "\tSCS v2.1.1 - Splitting Conic Solver\n",
            "\t(c) Brendan O'Donoghue, Stanford University, 2012\n",
            "----------------------------------------------------------------------------\n",
            "Lin-sys: sparse-direct, nnz in A = 73\n",
            "eps = 1.00e-04, alpha = 1.50, max_iters = 5000, normalize = 1, scale = 1.00\n",
            "acceleration_lookback = 10, rho_x = 1.00e-03\n",
            "Variables n = 27, constraints m = 53\n",
            "Cones:\tprimal zero / dual free vars: 15\n",
            "\tlinear vars: 4\n",
            "\tsoc vars: 12, soc blks: 4\n",
            "\tsd vars: 16, sd blks: 3\n",
            "\texp vars: 6, dual exp vars: 0\n",
            "Setup time: 1.94e-02s\n",
            "----------------------------------------------------------------------------\n",
            " Iter | pri res | dua res | rel gap | pri obj | dua obj | kap/tau | time (s)\n",
            "----------------------------------------------------------------------------\n",
            "     0| 6.49e+19  4.14e+19  9.98e-01 -1.60e+22 -1.38e+19  5.62e+21  2.17e-02 \n",
            "   100| 3.94e-03  5.01e-03  1.43e-02 -8.64e+00 -8.90e+00  8.68e-15  3.55e-02 \n",
            "   200| 2.49e-05  2.98e-05  9.81e-06 -8.86e+00 -8.86e+00  9.73e-15  4.29e-02 \n",
            "----------------------------------------------------------------------------\n",
            "Status: Solved\n",
            "Timing: Solve time: 4.30e-02s\n",
            "\tLin-sys: nnz in L factor: 157, avg solve time: 7.20e-07s\n",
            "\tCones: avg projection time: 9.18e-05s\n",
            "\tAcceleration: avg step time: 3.80e-05s\n",
            "----------------------------------------------------------------------------\n",
            "Error metrics:\n",
            "dist(s, K) = 4.0289e-06, dist(y, K*) = 6.6562e-10, s'y/|s||y| = -3.0058e-11\n",
            "primal res: |Ax + s - b|_2 / (1 + |b|_2) = 2.4918e-05\n",
            "dual res:   |A'y + c|_2 / (1 + |c|_2) = 2.9786e-05\n",
            "rel gap:    |c'x + b'y| / (1 + |c'x| + |b'y|) = 9.8132e-06\n",
            "----------------------------------------------------------------------------\n",
            "c'x = -8.8579, -b'y = -8.8581\n",
            "============================================================================\n"
          ],
          "name": "stdout"
        },
        {
          "output_type": "execute_result",
          "data": {
            "text/plain": [
              "8.857946242481223"
            ]
          },
          "metadata": {
            "tags": []
          },
          "execution_count": 4
        }
      ]
    },
    {
      "cell_type": "code",
      "metadata": {
        "id": "G_QhrxxrBGwI",
        "colab_type": "code",
        "colab": {
          "base_uri": "https://localhost:8080/",
          "height": 483
        },
        "outputId": "af094476-b800-4578-b502-1c7f7ea356db"
      },
      "source": [
        "plt.figure(figsize=(10, 8))\n",
        "plt.plot(vert_x, vert_y)\n",
        "\n",
        "# Create ellipse\n",
        "points = np.arange(0,101)*2*np.pi/100\n",
        "e_points = (np.kron(c.value,np.ones([1,101])) +  E.value @ [np.cos(points),np.sin(points)])\n",
        "plt.plot(e_points[0].T,e_points[1].T)\n",
        "plt.plot(c.value[0],c.value[1],'*')\n",
        "evalue, evec = np.linalg.eigvals(E.value)\n",
        "\n",
        "plt.show()"
      ],
      "execution_count": 6,
      "outputs": [
        {
          "output_type": "display_data",
          "data": {
            "image/png": "[encoded data removed]",
            "text/plain": [
              "<Figure size 720x576 with 1 Axes>"
            ]
          },
          "metadata": {
            "tags": []
          }
        }
      ]
    }
  ]
}
